{
 "cells": [
  {
   "cell_type": "markdown",
   "id": "5c2da587",
   "metadata": {},
   "source": [
    "## Data Importing and Inspection"
   ]
  },
  {
   "cell_type": "code",
   "execution_count": 98,
   "id": "55efd928",
   "metadata": {},
   "outputs": [],
   "source": [
    "#import required libraries\n",
    "import pandas as pd\n",
    "import matplotlib.pyplot as plt"
   ]
  },
  {
   "cell_type": "code",
   "execution_count": 99,
   "id": "adc9753a",
   "metadata": {},
   "outputs": [],
   "source": [
    "#read the data\n",
    "actual_generation = pd.read_csv(\n",
    "    '../data/raw/Actual_generation_202101010000_202509180000_Hour.csv', \n",
    "    sep=';', \n",
    "    low_memory=False,\n",
    "    na_values=['-']\n",
    ")\n",
    "day_ahead_prices = pd.read_csv(\n",
    "    '../data/raw/Day-ahead_prices_202101010000_202509180000_Hour.csv', \n",
    "    sep=';', \n",
    "    low_memory=False,\n",
    "    na_values=['-']\n",
    ")"
   ]
  },
  {
   "cell_type": "code",
   "execution_count": 100,
   "id": "1c8cdbd6",
   "metadata": {},
   "outputs": [
    {
     "data": {
      "application/vnd.microsoft.datawrangler.viewer.v0+json": {
       "columns": [
        {
         "name": "index",
         "rawType": "int64",
         "type": "integer"
        },
        {
         "name": "Start date",
         "rawType": "object",
         "type": "string"
        },
        {
         "name": "End date",
         "rawType": "object",
         "type": "string"
        },
        {
         "name": "Biomass [MWh] Calculated resolutions",
         "rawType": "object",
         "type": "string"
        },
        {
         "name": "Hydropower [MWh] Calculated resolutions",
         "rawType": "object",
         "type": "string"
        },
        {
         "name": "Wind offshore [MWh] Calculated resolutions",
         "rawType": "object",
         "type": "string"
        },
        {
         "name": "Wind onshore [MWh] Calculated resolutions",
         "rawType": "object",
         "type": "string"
        },
        {
         "name": "Photovoltaics [MWh] Calculated resolutions",
         "rawType": "object",
         "type": "string"
        },
        {
         "name": "Other renewable [MWh] Calculated resolutions",
         "rawType": "float64",
         "type": "float"
        },
        {
         "name": "Nuclear [MWh] Calculated resolutions",
         "rawType": "object",
         "type": "string"
        },
        {
         "name": "Lignite [MWh] Calculated resolutions",
         "rawType": "object",
         "type": "string"
        },
        {
         "name": "Hard coal [MWh] Calculated resolutions",
         "rawType": "object",
         "type": "string"
        },
        {
         "name": "Fossil gas [MWh] Calculated resolutions",
         "rawType": "object",
         "type": "string"
        },
        {
         "name": "Hydro pumped storage [MWh] Calculated resolutions",
         "rawType": "object",
         "type": "string"
        },
        {
         "name": "Other conventional [MWh] Calculated resolutions",
         "rawType": "object",
         "type": "string"
        }
       ],
       "ref": "f273d242-f559-4d4d-a52f-30573514b19a",
       "rows": [
        [
         "0",
         "Jan 1, 2021 12:00 AM",
         "Jan 1, 2021 1:00 AM",
         "4,481.00",
         "1,203.00",
         "383.00",
         "3,928.25",
         "1.00",
         "213.0",
         "8,144.75",
         "11,608.50",
         "3,443.75",
         "6,923.00",
         "347.25",
         "1,637.50"
        ],
        [
         "1",
         "Jan 1, 2021 1:00 AM",
         "Jan 1, 2021 2:00 AM",
         "4,453.00",
         "1,192.75",
         "394.50",
         "3,528.25",
         "1.00",
         "213.25",
         "8,150.25",
         "11,602.75",
         "3,044.75",
         "6,688.00",
         "518.50",
         "1,636.00"
        ],
        [
         "2",
         "Jan 1, 2021 2:00 AM",
         "Jan 1, 2021 3:00 AM",
         "4,440.50",
         "1,161.00",
         "305.25",
         "3,198.00",
         "1.00",
         "216.5",
         "8,156.50",
         "11,758.50",
         "3,067.25",
         "6,586.00",
         "170.00",
         "1,630.00"
        ],
        [
         "3",
         "Jan 1, 2021 3:00 AM",
         "Jan 1, 2021 4:00 AM",
         "4,424.75",
         "1,177.75",
         "319.25",
         "2,768.75",
         "1.00",
         "218.0",
         "8,153.75",
         "12,337.50",
         "2,852.50",
         "6,396.50",
         "2.00",
         "1,621.50"
        ],
        [
         "4",
         "Jan 1, 2021 4:00 AM",
         "Jan 1, 2021 5:00 AM",
         "4,430.75",
         "1,153.25",
         "296.25",
         "2,462.25",
         "1.00",
         "221.5",
         "8,150.50",
         "12,395.00",
         "2,713.25",
         "6,333.00",
         "6.00",
         "1,621.50"
        ]
       ],
       "shape": {
        "columns": 14,
        "rows": 5
       }
      },
      "text/html": [
       "<div>\n",
       "<style scoped>\n",
       "    .dataframe tbody tr th:only-of-type {\n",
       "        vertical-align: middle;\n",
       "    }\n",
       "\n",
       "    .dataframe tbody tr th {\n",
       "        vertical-align: top;\n",
       "    }\n",
       "\n",
       "    .dataframe thead th {\n",
       "        text-align: right;\n",
       "    }\n",
       "</style>\n",
       "<table border=\"1\" class=\"dataframe\">\n",
       "  <thead>\n",
       "    <tr style=\"text-align: right;\">\n",
       "      <th></th>\n",
       "      <th>Start date</th>\n",
       "      <th>End date</th>\n",
       "      <th>Biomass [MWh] Calculated resolutions</th>\n",
       "      <th>Hydropower [MWh] Calculated resolutions</th>\n",
       "      <th>Wind offshore [MWh] Calculated resolutions</th>\n",
       "      <th>Wind onshore [MWh] Calculated resolutions</th>\n",
       "      <th>Photovoltaics [MWh] Calculated resolutions</th>\n",
       "      <th>Other renewable [MWh] Calculated resolutions</th>\n",
       "      <th>Nuclear [MWh] Calculated resolutions</th>\n",
       "      <th>Lignite [MWh] Calculated resolutions</th>\n",
       "      <th>Hard coal [MWh] Calculated resolutions</th>\n",
       "      <th>Fossil gas [MWh] Calculated resolutions</th>\n",
       "      <th>Hydro pumped storage [MWh] Calculated resolutions</th>\n",
       "      <th>Other conventional [MWh] Calculated resolutions</th>\n",
       "    </tr>\n",
       "  </thead>\n",
       "  <tbody>\n",
       "    <tr>\n",
       "      <th>0</th>\n",
       "      <td>Jan 1, 2021 12:00 AM</td>\n",
       "      <td>Jan 1, 2021 1:00 AM</td>\n",
       "      <td>4,481.00</td>\n",
       "      <td>1,203.00</td>\n",
       "      <td>383.00</td>\n",
       "      <td>3,928.25</td>\n",
       "      <td>1.00</td>\n",
       "      <td>213.00</td>\n",
       "      <td>8,144.75</td>\n",
       "      <td>11,608.50</td>\n",
       "      <td>3,443.75</td>\n",
       "      <td>6,923.00</td>\n",
       "      <td>347.25</td>\n",
       "      <td>1,637.50</td>\n",
       "    </tr>\n",
       "    <tr>\n",
       "      <th>1</th>\n",
       "      <td>Jan 1, 2021 1:00 AM</td>\n",
       "      <td>Jan 1, 2021 2:00 AM</td>\n",
       "      <td>4,453.00</td>\n",
       "      <td>1,192.75</td>\n",
       "      <td>394.50</td>\n",
       "      <td>3,528.25</td>\n",
       "      <td>1.00</td>\n",
       "      <td>213.25</td>\n",
       "      <td>8,150.25</td>\n",
       "      <td>11,602.75</td>\n",
       "      <td>3,044.75</td>\n",
       "      <td>6,688.00</td>\n",
       "      <td>518.50</td>\n",
       "      <td>1,636.00</td>\n",
       "    </tr>\n",
       "    <tr>\n",
       "      <th>2</th>\n",
       "      <td>Jan 1, 2021 2:00 AM</td>\n",
       "      <td>Jan 1, 2021 3:00 AM</td>\n",
       "      <td>4,440.50</td>\n",
       "      <td>1,161.00</td>\n",
       "      <td>305.25</td>\n",
       "      <td>3,198.00</td>\n",
       "      <td>1.00</td>\n",
       "      <td>216.50</td>\n",
       "      <td>8,156.50</td>\n",
       "      <td>11,758.50</td>\n",
       "      <td>3,067.25</td>\n",
       "      <td>6,586.00</td>\n",
       "      <td>170.00</td>\n",
       "      <td>1,630.00</td>\n",
       "    </tr>\n",
       "    <tr>\n",
       "      <th>3</th>\n",
       "      <td>Jan 1, 2021 3:00 AM</td>\n",
       "      <td>Jan 1, 2021 4:00 AM</td>\n",
       "      <td>4,424.75</td>\n",
       "      <td>1,177.75</td>\n",
       "      <td>319.25</td>\n",
       "      <td>2,768.75</td>\n",
       "      <td>1.00</td>\n",
       "      <td>218.00</td>\n",
       "      <td>8,153.75</td>\n",
       "      <td>12,337.50</td>\n",
       "      <td>2,852.50</td>\n",
       "      <td>6,396.50</td>\n",
       "      <td>2.00</td>\n",
       "      <td>1,621.50</td>\n",
       "    </tr>\n",
       "    <tr>\n",
       "      <th>4</th>\n",
       "      <td>Jan 1, 2021 4:00 AM</td>\n",
       "      <td>Jan 1, 2021 5:00 AM</td>\n",
       "      <td>4,430.75</td>\n",
       "      <td>1,153.25</td>\n",
       "      <td>296.25</td>\n",
       "      <td>2,462.25</td>\n",
       "      <td>1.00</td>\n",
       "      <td>221.50</td>\n",
       "      <td>8,150.50</td>\n",
       "      <td>12,395.00</td>\n",
       "      <td>2,713.25</td>\n",
       "      <td>6,333.00</td>\n",
       "      <td>6.00</td>\n",
       "      <td>1,621.50</td>\n",
       "    </tr>\n",
       "  </tbody>\n",
       "</table>\n",
       "</div>"
      ],
      "text/plain": [
       "             Start date             End date  \\\n",
       "0  Jan 1, 2021 12:00 AM  Jan 1, 2021 1:00 AM   \n",
       "1   Jan 1, 2021 1:00 AM  Jan 1, 2021 2:00 AM   \n",
       "2   Jan 1, 2021 2:00 AM  Jan 1, 2021 3:00 AM   \n",
       "3   Jan 1, 2021 3:00 AM  Jan 1, 2021 4:00 AM   \n",
       "4   Jan 1, 2021 4:00 AM  Jan 1, 2021 5:00 AM   \n",
       "\n",
       "  Biomass [MWh] Calculated resolutions  \\\n",
       "0                             4,481.00   \n",
       "1                             4,453.00   \n",
       "2                             4,440.50   \n",
       "3                             4,424.75   \n",
       "4                             4,430.75   \n",
       "\n",
       "  Hydropower [MWh] Calculated resolutions  \\\n",
       "0                                1,203.00   \n",
       "1                                1,192.75   \n",
       "2                                1,161.00   \n",
       "3                                1,177.75   \n",
       "4                                1,153.25   \n",
       "\n",
       "  Wind offshore [MWh] Calculated resolutions  \\\n",
       "0                                     383.00   \n",
       "1                                     394.50   \n",
       "2                                     305.25   \n",
       "3                                     319.25   \n",
       "4                                     296.25   \n",
       "\n",
       "  Wind onshore [MWh] Calculated resolutions  \\\n",
       "0                                  3,928.25   \n",
       "1                                  3,528.25   \n",
       "2                                  3,198.00   \n",
       "3                                  2,768.75   \n",
       "4                                  2,462.25   \n",
       "\n",
       "  Photovoltaics [MWh] Calculated resolutions  \\\n",
       "0                                       1.00   \n",
       "1                                       1.00   \n",
       "2                                       1.00   \n",
       "3                                       1.00   \n",
       "4                                       1.00   \n",
       "\n",
       "   Other renewable [MWh] Calculated resolutions  \\\n",
       "0                                        213.00   \n",
       "1                                        213.25   \n",
       "2                                        216.50   \n",
       "3                                        218.00   \n",
       "4                                        221.50   \n",
       "\n",
       "  Nuclear [MWh] Calculated resolutions Lignite [MWh] Calculated resolutions  \\\n",
       "0                             8,144.75                            11,608.50   \n",
       "1                             8,150.25                            11,602.75   \n",
       "2                             8,156.50                            11,758.50   \n",
       "3                             8,153.75                            12,337.50   \n",
       "4                             8,150.50                            12,395.00   \n",
       "\n",
       "  Hard coal [MWh] Calculated resolutions  \\\n",
       "0                               3,443.75   \n",
       "1                               3,044.75   \n",
       "2                               3,067.25   \n",
       "3                               2,852.50   \n",
       "4                               2,713.25   \n",
       "\n",
       "  Fossil gas [MWh] Calculated resolutions  \\\n",
       "0                                6,923.00   \n",
       "1                                6,688.00   \n",
       "2                                6,586.00   \n",
       "3                                6,396.50   \n",
       "4                                6,333.00   \n",
       "\n",
       "  Hydro pumped storage [MWh] Calculated resolutions  \\\n",
       "0                                            347.25   \n",
       "1                                            518.50   \n",
       "2                                            170.00   \n",
       "3                                              2.00   \n",
       "4                                              6.00   \n",
       "\n",
       "  Other conventional [MWh] Calculated resolutions  \n",
       "0                                        1,637.50  \n",
       "1                                        1,636.00  \n",
       "2                                        1,630.00  \n",
       "3                                        1,621.50  \n",
       "4                                        1,621.50  "
      ]
     },
     "execution_count": 100,
     "metadata": {},
     "output_type": "execute_result"
    }
   ],
   "source": [
    "#display the first few rows of the data\n",
    "actual_generation.head()"
   ]
  },
  {
   "cell_type": "code",
   "execution_count": 101,
   "id": "54721c52",
   "metadata": {},
   "outputs": [
    {
     "data": {
      "application/vnd.microsoft.datawrangler.viewer.v0+json": {
       "columns": [
        {
         "name": "index",
         "rawType": "int64",
         "type": "integer"
        },
        {
         "name": "Start date",
         "rawType": "object",
         "type": "string"
        },
        {
         "name": "End date",
         "rawType": "object",
         "type": "string"
        },
        {
         "name": "Germany/Luxembourg [€/MWh] Original resolutions",
         "rawType": "float64",
         "type": "float"
        },
        {
         "name": "∅ DE/LU neighbours [€/MWh] Original resolutions",
         "rawType": "float64",
         "type": "float"
        },
        {
         "name": "Belgium [€/MWh] Original resolutions",
         "rawType": "float64",
         "type": "float"
        },
        {
         "name": "Denmark 1 [€/MWh] Original resolutions",
         "rawType": "float64",
         "type": "float"
        },
        {
         "name": "Denmark 2 [€/MWh] Original resolutions",
         "rawType": "float64",
         "type": "float"
        },
        {
         "name": "France [€/MWh] Original resolutions",
         "rawType": "object",
         "type": "string"
        },
        {
         "name": "Netherlands [€/MWh] Original resolutions",
         "rawType": "float64",
         "type": "float"
        },
        {
         "name": "Norway 2 [€/MWh] Original resolutions",
         "rawType": "float64",
         "type": "float"
        },
        {
         "name": "Austria [€/MWh] Original resolutions",
         "rawType": "float64",
         "type": "float"
        },
        {
         "name": "Poland [€/MWh] Original resolutions",
         "rawType": "float64",
         "type": "float"
        },
        {
         "name": "Sweden 4 [€/MWh] Original resolutions",
         "rawType": "float64",
         "type": "float"
        },
        {
         "name": "Switzerland [€/MWh] Original resolutions",
         "rawType": "float64",
         "type": "float"
        },
        {
         "name": "Czech Republic [€/MWh] Original resolutions",
         "rawType": "float64",
         "type": "float"
        },
        {
         "name": "DE/AT/LU [€/MWh] Original resolutions",
         "rawType": "float64",
         "type": "float"
        },
        {
         "name": "Northern Italy [€/MWh] Calculated resolutions",
         "rawType": "float64",
         "type": "float"
        },
        {
         "name": "Slovenia [€/MWh] Original resolutions",
         "rawType": "object",
         "type": "string"
        },
        {
         "name": "Hungary [€/MWh] Original resolutions",
         "rawType": "object",
         "type": "string"
        }
       ],
       "ref": "cca51e89-5fdd-4228-be4f-06727eb5b086",
       "rows": [
        [
         "0",
         "Jan 1, 2021 12:00 AM",
         "Jan 1, 2021 1:00 AM",
         "50.87",
         "44.17",
         "50.87",
         "50.87",
         "50.87",
         "50.87",
         "50.87",
         "24.95",
         "50.87",
         "34.18",
         "24.95",
         "50.98",
         "45.54",
         null,
         "50.87",
         "50.87",
         "45.54"
        ],
        [
         "1",
         "Jan 1, 2021 1:00 AM",
         "Jan 1, 2021 2:00 AM",
         "48.19",
         "41.63",
         "48.19",
         "48.19",
         "48.19",
         "48.19",
         "48.19",
         "24.35",
         "48.19",
         "32.61",
         "24.35",
         "45.94",
         "41.59",
         null,
         "48.19",
         "48.19",
         "41.59"
        ],
        [
         "2",
         "Jan 1, 2021 2:00 AM",
         "Jan 1, 2021 3:00 AM",
         "44.68",
         "39.38",
         "44.68",
         "44.68",
         "44.68",
         "44.68",
         "44.68",
         "23.98",
         "44.68",
         "32.58",
         "23.98",
         "44.53",
         "40.05",
         null,
         "44.68",
         "44.68",
         "40.05"
        ],
        [
         "3",
         "Jan 1, 2021 3:00 AM",
         "Jan 1, 2021 4:00 AM",
         "42.92",
         "37.73",
         "42.92",
         "42.92",
         "42.92",
         "42.92",
         "42.92",
         "23.72",
         "42.92",
         "32.2",
         "23.72",
         "41.01",
         "36.9",
         null,
         "42.92",
         "42.92",
         "36.90"
        ],
        [
         "4",
         "Jan 1, 2021 4:00 AM",
         "Jan 1, 2021 5:00 AM",
         "40.39",
         "35.7",
         "40.39",
         "40.39",
         "40.39",
         "40.39",
         "40.39",
         "23.73",
         "40.39",
         "29.16",
         "23.73",
         "39.23",
         "34.47",
         null,
         "40.39",
         "40.39",
         "34.47"
        ]
       ],
       "shape": {
        "columns": 19,
        "rows": 5
       }
      },
      "text/html": [
       "<div>\n",
       "<style scoped>\n",
       "    .dataframe tbody tr th:only-of-type {\n",
       "        vertical-align: middle;\n",
       "    }\n",
       "\n",
       "    .dataframe tbody tr th {\n",
       "        vertical-align: top;\n",
       "    }\n",
       "\n",
       "    .dataframe thead th {\n",
       "        text-align: right;\n",
       "    }\n",
       "</style>\n",
       "<table border=\"1\" class=\"dataframe\">\n",
       "  <thead>\n",
       "    <tr style=\"text-align: right;\">\n",
       "      <th></th>\n",
       "      <th>Start date</th>\n",
       "      <th>End date</th>\n",
       "      <th>Germany/Luxembourg [€/MWh] Original resolutions</th>\n",
       "      <th>∅ DE/LU neighbours [€/MWh] Original resolutions</th>\n",
       "      <th>Belgium [€/MWh] Original resolutions</th>\n",
       "      <th>Denmark 1 [€/MWh] Original resolutions</th>\n",
       "      <th>Denmark 2 [€/MWh] Original resolutions</th>\n",
       "      <th>France [€/MWh] Original resolutions</th>\n",
       "      <th>Netherlands [€/MWh] Original resolutions</th>\n",
       "      <th>Norway 2 [€/MWh] Original resolutions</th>\n",
       "      <th>Austria [€/MWh] Original resolutions</th>\n",
       "      <th>Poland [€/MWh] Original resolutions</th>\n",
       "      <th>Sweden 4 [€/MWh] Original resolutions</th>\n",
       "      <th>Switzerland [€/MWh] Original resolutions</th>\n",
       "      <th>Czech Republic [€/MWh] Original resolutions</th>\n",
       "      <th>DE/AT/LU [€/MWh] Original resolutions</th>\n",
       "      <th>Northern Italy [€/MWh] Calculated resolutions</th>\n",
       "      <th>Slovenia [€/MWh] Original resolutions</th>\n",
       "      <th>Hungary [€/MWh] Original resolutions</th>\n",
       "    </tr>\n",
       "  </thead>\n",
       "  <tbody>\n",
       "    <tr>\n",
       "      <th>0</th>\n",
       "      <td>Jan 1, 2021 12:00 AM</td>\n",
       "      <td>Jan 1, 2021 1:00 AM</td>\n",
       "      <td>50.87</td>\n",
       "      <td>44.17</td>\n",
       "      <td>50.87</td>\n",
       "      <td>50.87</td>\n",
       "      <td>50.87</td>\n",
       "      <td>50.87</td>\n",
       "      <td>50.87</td>\n",
       "      <td>24.95</td>\n",
       "      <td>50.87</td>\n",
       "      <td>34.18</td>\n",
       "      <td>24.95</td>\n",
       "      <td>50.98</td>\n",
       "      <td>45.54</td>\n",
       "      <td>NaN</td>\n",
       "      <td>50.87</td>\n",
       "      <td>50.87</td>\n",
       "      <td>45.54</td>\n",
       "    </tr>\n",
       "    <tr>\n",
       "      <th>1</th>\n",
       "      <td>Jan 1, 2021 1:00 AM</td>\n",
       "      <td>Jan 1, 2021 2:00 AM</td>\n",
       "      <td>48.19</td>\n",
       "      <td>41.63</td>\n",
       "      <td>48.19</td>\n",
       "      <td>48.19</td>\n",
       "      <td>48.19</td>\n",
       "      <td>48.19</td>\n",
       "      <td>48.19</td>\n",
       "      <td>24.35</td>\n",
       "      <td>48.19</td>\n",
       "      <td>32.61</td>\n",
       "      <td>24.35</td>\n",
       "      <td>45.94</td>\n",
       "      <td>41.59</td>\n",
       "      <td>NaN</td>\n",
       "      <td>48.19</td>\n",
       "      <td>48.19</td>\n",
       "      <td>41.59</td>\n",
       "    </tr>\n",
       "    <tr>\n",
       "      <th>2</th>\n",
       "      <td>Jan 1, 2021 2:00 AM</td>\n",
       "      <td>Jan 1, 2021 3:00 AM</td>\n",
       "      <td>44.68</td>\n",
       "      <td>39.38</td>\n",
       "      <td>44.68</td>\n",
       "      <td>44.68</td>\n",
       "      <td>44.68</td>\n",
       "      <td>44.68</td>\n",
       "      <td>44.68</td>\n",
       "      <td>23.98</td>\n",
       "      <td>44.68</td>\n",
       "      <td>32.58</td>\n",
       "      <td>23.98</td>\n",
       "      <td>44.53</td>\n",
       "      <td>40.05</td>\n",
       "      <td>NaN</td>\n",
       "      <td>44.68</td>\n",
       "      <td>44.68</td>\n",
       "      <td>40.05</td>\n",
       "    </tr>\n",
       "    <tr>\n",
       "      <th>3</th>\n",
       "      <td>Jan 1, 2021 3:00 AM</td>\n",
       "      <td>Jan 1, 2021 4:00 AM</td>\n",
       "      <td>42.92</td>\n",
       "      <td>37.73</td>\n",
       "      <td>42.92</td>\n",
       "      <td>42.92</td>\n",
       "      <td>42.92</td>\n",
       "      <td>42.92</td>\n",
       "      <td>42.92</td>\n",
       "      <td>23.72</td>\n",
       "      <td>42.92</td>\n",
       "      <td>32.20</td>\n",
       "      <td>23.72</td>\n",
       "      <td>41.01</td>\n",
       "      <td>36.90</td>\n",
       "      <td>NaN</td>\n",
       "      <td>42.92</td>\n",
       "      <td>42.92</td>\n",
       "      <td>36.90</td>\n",
       "    </tr>\n",
       "    <tr>\n",
       "      <th>4</th>\n",
       "      <td>Jan 1, 2021 4:00 AM</td>\n",
       "      <td>Jan 1, 2021 5:00 AM</td>\n",
       "      <td>40.39</td>\n",
       "      <td>35.70</td>\n",
       "      <td>40.39</td>\n",
       "      <td>40.39</td>\n",
       "      <td>40.39</td>\n",
       "      <td>40.39</td>\n",
       "      <td>40.39</td>\n",
       "      <td>23.73</td>\n",
       "      <td>40.39</td>\n",
       "      <td>29.16</td>\n",
       "      <td>23.73</td>\n",
       "      <td>39.23</td>\n",
       "      <td>34.47</td>\n",
       "      <td>NaN</td>\n",
       "      <td>40.39</td>\n",
       "      <td>40.39</td>\n",
       "      <td>34.47</td>\n",
       "    </tr>\n",
       "  </tbody>\n",
       "</table>\n",
       "</div>"
      ],
      "text/plain": [
       "             Start date             End date  \\\n",
       "0  Jan 1, 2021 12:00 AM  Jan 1, 2021 1:00 AM   \n",
       "1   Jan 1, 2021 1:00 AM  Jan 1, 2021 2:00 AM   \n",
       "2   Jan 1, 2021 2:00 AM  Jan 1, 2021 3:00 AM   \n",
       "3   Jan 1, 2021 3:00 AM  Jan 1, 2021 4:00 AM   \n",
       "4   Jan 1, 2021 4:00 AM  Jan 1, 2021 5:00 AM   \n",
       "\n",
       "   Germany/Luxembourg [€/MWh] Original resolutions  \\\n",
       "0                                            50.87   \n",
       "1                                            48.19   \n",
       "2                                            44.68   \n",
       "3                                            42.92   \n",
       "4                                            40.39   \n",
       "\n",
       "   ∅ DE/LU neighbours [€/MWh] Original resolutions  \\\n",
       "0                                            44.17   \n",
       "1                                            41.63   \n",
       "2                                            39.38   \n",
       "3                                            37.73   \n",
       "4                                            35.70   \n",
       "\n",
       "   Belgium [€/MWh] Original resolutions  \\\n",
       "0                                 50.87   \n",
       "1                                 48.19   \n",
       "2                                 44.68   \n",
       "3                                 42.92   \n",
       "4                                 40.39   \n",
       "\n",
       "   Denmark 1 [€/MWh] Original resolutions  \\\n",
       "0                                   50.87   \n",
       "1                                   48.19   \n",
       "2                                   44.68   \n",
       "3                                   42.92   \n",
       "4                                   40.39   \n",
       "\n",
       "   Denmark 2 [€/MWh] Original resolutions France [€/MWh] Original resolutions  \\\n",
       "0                                   50.87                               50.87   \n",
       "1                                   48.19                               48.19   \n",
       "2                                   44.68                               44.68   \n",
       "3                                   42.92                               42.92   \n",
       "4                                   40.39                               40.39   \n",
       "\n",
       "   Netherlands [€/MWh] Original resolutions  \\\n",
       "0                                     50.87   \n",
       "1                                     48.19   \n",
       "2                                     44.68   \n",
       "3                                     42.92   \n",
       "4                                     40.39   \n",
       "\n",
       "   Norway 2 [€/MWh] Original resolutions  \\\n",
       "0                                  24.95   \n",
       "1                                  24.35   \n",
       "2                                  23.98   \n",
       "3                                  23.72   \n",
       "4                                  23.73   \n",
       "\n",
       "   Austria [€/MWh] Original resolutions  Poland [€/MWh] Original resolutions  \\\n",
       "0                                 50.87                                34.18   \n",
       "1                                 48.19                                32.61   \n",
       "2                                 44.68                                32.58   \n",
       "3                                 42.92                                32.20   \n",
       "4                                 40.39                                29.16   \n",
       "\n",
       "   Sweden 4 [€/MWh] Original resolutions  \\\n",
       "0                                  24.95   \n",
       "1                                  24.35   \n",
       "2                                  23.98   \n",
       "3                                  23.72   \n",
       "4                                  23.73   \n",
       "\n",
       "   Switzerland [€/MWh] Original resolutions  \\\n",
       "0                                     50.98   \n",
       "1                                     45.94   \n",
       "2                                     44.53   \n",
       "3                                     41.01   \n",
       "4                                     39.23   \n",
       "\n",
       "   Czech Republic [€/MWh] Original resolutions  \\\n",
       "0                                        45.54   \n",
       "1                                        41.59   \n",
       "2                                        40.05   \n",
       "3                                        36.90   \n",
       "4                                        34.47   \n",
       "\n",
       "   DE/AT/LU [€/MWh] Original resolutions  \\\n",
       "0                                    NaN   \n",
       "1                                    NaN   \n",
       "2                                    NaN   \n",
       "3                                    NaN   \n",
       "4                                    NaN   \n",
       "\n",
       "   Northern Italy [€/MWh] Calculated resolutions  \\\n",
       "0                                          50.87   \n",
       "1                                          48.19   \n",
       "2                                          44.68   \n",
       "3                                          42.92   \n",
       "4                                          40.39   \n",
       "\n",
       "  Slovenia [€/MWh] Original resolutions Hungary [€/MWh] Original resolutions  \n",
       "0                                 50.87                                45.54  \n",
       "1                                 48.19                                41.59  \n",
       "2                                 44.68                                40.05  \n",
       "3                                 42.92                                36.90  \n",
       "4                                 40.39                                34.47  "
      ]
     },
     "execution_count": 101,
     "metadata": {},
     "output_type": "execute_result"
    }
   ],
   "source": [
    "day_ahead_prices.head()\n"
   ]
  },
  {
   "cell_type": "code",
   "execution_count": 102,
   "id": "133f427a",
   "metadata": {},
   "outputs": [
    {
     "name": "stdout",
     "output_type": "stream",
     "text": [
      "Start date                                               0\n",
      "End date                                                 0\n",
      "Biomass [MWh] Calculated resolutions                     3\n",
      "Hydropower [MWh] Calculated resolutions                  3\n",
      "Wind offshore [MWh] Calculated resolutions               3\n",
      "Wind onshore [MWh] Calculated resolutions                3\n",
      "Photovoltaics [MWh] Calculated resolutions               3\n",
      "Other renewable [MWh] Calculated resolutions             3\n",
      "Nuclear [MWh] Calculated resolutions                 14315\n",
      "Lignite [MWh] Calculated resolutions                    28\n",
      "Hard coal [MWh] Calculated resolutions                  28\n",
      "Fossil gas [MWh] Calculated resolutions                  3\n",
      "Hydro pumped storage [MWh] Calculated resolutions        3\n",
      "Other conventional [MWh] Calculated resolutions         28\n",
      "dtype: int64\n",
      "Start date                                             0\n",
      "End date                                               0\n",
      "Germany/Luxembourg [€/MWh] Original resolutions        0\n",
      "∅ DE/LU neighbours [€/MWh] Original resolutions       96\n",
      "Belgium [€/MWh] Original resolutions                   0\n",
      "Denmark 1 [€/MWh] Original resolutions                 0\n",
      "Denmark 2 [€/MWh] Original resolutions                 0\n",
      "France [€/MWh] Original resolutions                    0\n",
      "Netherlands [€/MWh] Original resolutions               0\n",
      "Norway 2 [€/MWh] Original resolutions                 96\n",
      "Austria [€/MWh] Original resolutions                   0\n",
      "Poland [€/MWh] Original resolutions                    0\n",
      "Sweden 4 [€/MWh] Original resolutions                  0\n",
      "Switzerland [€/MWh] Original resolutions               0\n",
      "Czech Republic [€/MWh] Original resolutions            0\n",
      "DE/AT/LU [€/MWh] Original resolutions              41303\n",
      "Northern Italy [€/MWh] Calculated resolutions          0\n",
      "Slovenia [€/MWh] Original resolutions                  0\n",
      "Hungary [€/MWh] Original resolutions                   0\n",
      "dtype: int64\n"
     ]
    }
   ],
   "source": [
    "#check for missing values\n",
    "print(actual_generation.isnull().sum())\n",
    "print(day_ahead_prices.isnull().sum())"
   ]
  },
  {
   "cell_type": "code",
   "execution_count": 103,
   "id": "ce7a3ec9",
   "metadata": {},
   "outputs": [
    {
     "name": "stdout",
     "output_type": "stream",
     "text": [
      "Start date                                            object\n",
      "End date                                              object\n",
      "Biomass [MWh] Calculated resolutions                  object\n",
      "Hydropower [MWh] Calculated resolutions               object\n",
      "Wind offshore [MWh] Calculated resolutions            object\n",
      "Wind onshore [MWh] Calculated resolutions             object\n",
      "Photovoltaics [MWh] Calculated resolutions            object\n",
      "Other renewable [MWh] Calculated resolutions         float64\n",
      "Nuclear [MWh] Calculated resolutions                  object\n",
      "Lignite [MWh] Calculated resolutions                  object\n",
      "Hard coal [MWh] Calculated resolutions                object\n",
      "Fossil gas [MWh] Calculated resolutions               object\n",
      "Hydro pumped storage [MWh] Calculated resolutions     object\n",
      "Other conventional [MWh] Calculated resolutions       object\n",
      "dtype: object\n",
      "Start date                                          object\n",
      "End date                                            object\n",
      "Germany/Luxembourg [€/MWh] Original resolutions    float64\n",
      "∅ DE/LU neighbours [€/MWh] Original resolutions    float64\n",
      "Belgium [€/MWh] Original resolutions               float64\n",
      "Denmark 1 [€/MWh] Original resolutions             float64\n",
      "Denmark 2 [€/MWh] Original resolutions             float64\n",
      "France [€/MWh] Original resolutions                 object\n",
      "Netherlands [€/MWh] Original resolutions           float64\n",
      "Norway 2 [€/MWh] Original resolutions              float64\n",
      "Austria [€/MWh] Original resolutions               float64\n",
      "Poland [€/MWh] Original resolutions                float64\n",
      "Sweden 4 [€/MWh] Original resolutions              float64\n",
      "Switzerland [€/MWh] Original resolutions           float64\n",
      "Czech Republic [€/MWh] Original resolutions        float64\n",
      "DE/AT/LU [€/MWh] Original resolutions              float64\n",
      "Northern Italy [€/MWh] Calculated resolutions      float64\n",
      "Slovenia [€/MWh] Original resolutions               object\n",
      "Hungary [€/MWh] Original resolutions                object\n",
      "dtype: object\n"
     ]
    }
   ],
   "source": [
    "#display data types\n",
    "print(actual_generation.dtypes)\n",
    "print(day_ahead_prices.dtypes)"
   ]
  },
  {
   "cell_type": "markdown",
   "id": "6308b8f3",
   "metadata": {},
   "source": [
    "## Data Cleaning and Preprocessing"
   ]
  },
  {
   "cell_type": "code",
   "execution_count": 104,
   "id": "1177d6a5",
   "metadata": {},
   "outputs": [],
   "source": [
    "# Turn the 'Start date' and \"End date\" columns into a datetime object\n",
    "date_format = \"%b %d, %Y %I:%M %p\"\n",
    "\n",
    "actual_generation['Start date'] = pd.to_datetime(actual_generation['Start date'], format=date_format)\n",
    "actual_generation['End date'] = pd.to_datetime(actual_generation['End date'], format=date_format)\n",
    "day_ahead_prices['Start date'] = pd.to_datetime(day_ahead_prices['Start date'], format=date_format)\n",
    "day_ahead_prices['End date'] = pd.to_datetime(day_ahead_prices['End date'], format=date_format)"
   ]
  },
  {
   "cell_type": "code",
   "execution_count": 105,
   "id": "bdbb10d4",
   "metadata": {},
   "outputs": [],
   "source": [
    "# Turn all the object columns into float\n",
    "for df in [actual_generation, day_ahead_prices]:\n",
    "    for col in df.select_dtypes(include=['object']).columns:\n",
    "        # Remove commas and convert to float\n",
    "        df[col] = df[col].str.replace(',', '').astype(float)"
   ]
  },
  {
   "cell_type": "code",
   "execution_count": 106,
   "id": "c87ba61e",
   "metadata": {},
   "outputs": [
    {
     "name": "stdout",
     "output_type": "stream",
     "text": [
      "False\n",
      "False\n"
     ]
    }
   ],
   "source": [
    "# dealing with missing values by:\n",
    "# actual_generation: replace all missing values with 0\n",
    "actual_generation.fillna(0, inplace=True)\n",
    "\n",
    "# day_ahead_prices: interpolate missing values, and drop empty columns\n",
    "day_ahead_prices.dropna(axis=1, how='all', inplace=True)\n",
    "day_ahead_prices.interpolate(method='linear', inplace=True)\n",
    "\n",
    "# sanity check for missing values\n",
    "print(actual_generation.isnull().values.any())\n",
    "print(day_ahead_prices.isnull().values.any())"
   ]
  },
  {
   "cell_type": "code",
   "execution_count": 107,
   "id": "b5b4ef9c",
   "metadata": {},
   "outputs": [
    {
     "data": {
      "application/vnd.microsoft.datawrangler.viewer.v0+json": {
       "columns": [
        {
         "name": "index",
         "rawType": "object",
         "type": "string"
        },
        {
         "name": "Total Generation [MWh]",
         "rawType": "float64",
         "type": "float"
        }
       ],
       "ref": "a292ad4e-0304-4ae2-af4c-4a2153caf8c3",
       "rows": [
        [
         "count",
         "41303.0"
        ],
        [
         "mean",
         "53462.01243251096"
        ],
        [
         "std",
         "11976.215351551298"
        ],
        [
         "min",
         "0.0"
        ],
        [
         "25%",
         "44778.625"
        ],
        [
         "50%",
         "53783.0"
        ],
        [
         "75%",
         "62171.875"
        ],
        [
         "max",
         "89277.0"
        ]
       ],
       "shape": {
        "columns": 1,
        "rows": 8
       }
      },
      "text/plain": [
       "count    41303.000000\n",
       "mean     53462.012433\n",
       "std      11976.215352\n",
       "min          0.000000\n",
       "25%      44778.625000\n",
       "50%      53783.000000\n",
       "75%      62171.875000\n",
       "max      89277.000000\n",
       "Name: Total Generation [MWh], dtype: float64"
      ]
     },
     "execution_count": 107,
     "metadata": {},
     "output_type": "execute_result"
    }
   ],
   "source": [
    "# Adding a \"Total Generation\" column to actual_generation\n",
    "actual_generation['Total Generation [MWh]'] = actual_generation.drop(columns=['Start date', 'End date']).sum(axis=1)\n",
    "actual_generation['Total Generation [MWh]'].describe()\n"
   ]
  },
  {
   "cell_type": "code",
   "execution_count": 108,
   "id": "44b31c81",
   "metadata": {},
   "outputs": [
    {
     "data": {
      "application/vnd.microsoft.datawrangler.viewer.v0+json": {
       "columns": [
        {
         "name": "index",
         "rawType": "object",
         "type": "string"
        },
        {
         "name": "Germany/Luxembourg [€/MWh] Original resolutions",
         "rawType": "float64",
         "type": "float"
        }
       ],
       "ref": "52535d34-e75d-47c1-9a4a-bbddc92bd09f",
       "rows": [
        [
         "count",
         "41303.0"
        ],
        [
         "mean",
         "120.65056969227417"
        ],
        [
         "std",
         "102.89035898313902"
        ],
        [
         "min",
         "-500.0"
        ],
        [
         "25%",
         "65.01"
        ],
        [
         "50%",
         "95.99"
        ],
        [
         "75%",
         "140.68"
        ],
        [
         "max",
         "936.28"
        ]
       ],
       "shape": {
        "columns": 1,
        "rows": 8
       }
      },
      "text/plain": [
       "count    41303.000000\n",
       "mean       120.650570\n",
       "std        102.890359\n",
       "min       -500.000000\n",
       "25%         65.010000\n",
       "50%         95.990000\n",
       "75%        140.680000\n",
       "max        936.280000\n",
       "Name: Germany/Luxembourg [€/MWh] Original resolutions, dtype: float64"
      ]
     },
     "execution_count": 108,
     "metadata": {},
     "output_type": "execute_result"
    }
   ],
   "source": [
    "#display summary statistics of the target variable\n",
    "day_ahead_prices[\"Germany/Luxembourg [€/MWh] Original resolutions\"].describe()"
   ]
  },
  {
   "cell_type": "markdown",
   "id": "bd7d48e1",
   "metadata": {},
   "source": [
    "## Exploratory Data Analysis (EDA)"
   ]
  },
  {
   "cell_type": "code",
   "execution_count": 109,
   "id": "75260c82",
   "metadata": {},
   "outputs": [
    {
     "data": {
      "image/png": "[encoded data removed]",
      "text/plain": [
       "<Figure size 1600x800 with 2 Axes>"
      ]
     },
     "metadata": {},
     "output_type": "display_data"
    }
   ],
   "source": [
    "fig, ax1 = plt.subplots(figsize=(16, 8))\n",
    "\n",
    "# Plot Price on the primary y-axis\n",
    "color = 'tab:blue'\n",
    "ax1.set_xlabel('Date')\n",
    "ax1.set_ylabel('Day-Ahead Price (€/MWh)', color=color)\n",
    "ax1.plot(\n",
    "    day_ahead_prices[\"Start date\"], \n",
    "    day_ahead_prices['Germany/Luxembourg [€/MWh] Original resolutions'], \n",
    "    color=color, label='Price')\n",
    "ax1.tick_params(axis='y', labelcolor=color)\n",
    "\n",
    "# Create a second y-axis for Generation\n",
    "ax2 = ax1.twinx()\n",
    "color = 'tab:green'\n",
    "ax2.set_ylabel('Actual Generation (MWh)', color=color)\n",
    "ax2.plot(actual_generation[\"Start date\"], actual_generation['Total Generation [MWh]'], color=color, alpha=0.6, label='Generation')\n",
    "ax2.tick_params(axis='y', labelcolor=color)\n",
    "\n",
    "fig.tight_layout()\n",
    "plt.title('Day-Ahead Price and Actual Generation Over Time')\n",
    "plt.show()"
   ]
  }
 ],
 "metadata": {
  "kernelspec": {
   "display_name": ".venv",
   "language": "python",
   "name": "python3"
  },
  "language_info": {
   "codemirror_mode": {
    "name": "ipython",
    "version": 3
   },
   "file_extension": ".py",
   "mimetype": "text/x-python",
   "name": "python",
   "nbconvert_exporter": "python",
   "pygments_lexer": "ipython3",
   "version": "3.13.7"
  }
 },
 "nbformat": 4,
 "nbformat_minor": 5
}
